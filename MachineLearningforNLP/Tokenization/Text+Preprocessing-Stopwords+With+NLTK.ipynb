{
 "cells": [
  {
   "cell_type": "code",
   "execution_count": 1,
   "id": "d7d51ee5",
   "metadata": {},
   "outputs": [],
   "source": [
    "paragraph = \"\"\"I have three visions for India. In 3000 years of our history, people from all over \n",
    "               the world have come and invaded us, captured our lands, conquered our minds. \n",
    "               From Alexander onwards, the Greeks, the Turks, the Moguls, the Portuguese, the British,\n",
    "               the French, the Dutch, all of them came and looted us, took over what was ours. \n",
    "               Yet we have not done this to any other nation. We have not conquered anyone. \n",
    "               We have not grabbed their land, their culture, \n",
    "               their history and tried to enforce our way of life on them. \n",
    "               Why? Because we respect the freedom of others.That is why my \n",
    "               first vision is that of freedom. I believe that India got its first vision of \n",
    "               this in 1857, when we started the War of Independence. It is this freedom that\n",
    "               we must protect and nurture and build on. If we are not free, no one will respect us.\n",
    "               My second vision for India’s development. For fifty years we have been a developing nation.\n",
    "               It is time we see ourselves as a developed nation. We are among the top 5 nations of the world\n",
    "               in terms of GDP. We have a 10 percent growth rate in most areas. Our poverty levels are falling.\n",
    "               Our achievements are being globally recognised today. Yet we lack the self-confidence to\n",
    "               see ourselves as a developed nation, self-reliant and self-assured. Isn’t this incorrect?\n",
    "               I have a third vision. India must stand up to the world. Because I believe that unless India \n",
    "               stands up to the world, no one will respect us. Only strength respects strength. We must be \n",
    "               strong not only as a military power but also as an economic power. Both must go hand-in-hand. \n",
    "               My good fortune was to have worked with three great minds. Dr. Vikram Sarabhai of the Dept. of \n",
    "               space, Professor Satish Dhawan, who succeeded him and Dr. Brahm Prakash, father of nuclear material.\n",
    "               I was lucky to have worked with all three of them closely and consider this the great opportunity of my life. \n",
    "               I see four milestones in my career\"\"\""
   ]
  },
  {
   "cell_type": "code",
   "execution_count": null,
   "id": "2b83ffdc",
   "metadata": {},
   "outputs": [
    {
     "name": "stderr",
     "output_type": "stream",
     "text": [
      "[nltk_data] Downloading package stopwords to\n",
      "[nltk_data]     C:\\Users\\Admin\\AppData\\Roaming\\nltk_data...\n",
      "[nltk_data]   Package stopwords is already up-to-date!\n"
     ]
    },
    {
     "data": {
      "text/plain": [
       "True"
      ]
     },
     "execution_count": 3,
     "metadata": {},
     "output_type": "execute_result"
    }
   ],
   "source": [
    "import nltk\n",
    "nltk.download('stopwords')"
   ]
  },
  {
   "cell_type": "code",
   "execution_count": 11,
   "id": "70e9e438",
   "metadata": {},
   "outputs": [],
   "source": [
    "from nltk.corpus import stopwords \n",
    "from nltk.stem import WordNetLemmatizer \n",
    "from nltk.stem import PorterStemmer \n",
    "from nltk.stem import SnowballStemmer\n",
    "from nltk.tokenize import word_tokenize \n",
    "from nltk.tokenize import sent_tokenize\n",
    "import re"
   ]
  },
  {
   "cell_type": "code",
   "execution_count": 10,
   "id": "b8d090bb",
   "metadata": {},
   "outputs": [],
   "source": [
    "lemmatizer = WordNetLemmatizer()\n",
    "PtS = PorterStemmer()\n",
    "SnS = SnowballStemmer(language='english')"
   ]
  },
  {
   "cell_type": "code",
   "execution_count": 12,
   "id": "3cedef59",
   "metadata": {},
   "outputs": [],
   "source": [
    "sentences = sent_tokenize(paragraph)"
   ]
  },
  {
   "cell_type": "code",
   "execution_count": 14,
   "id": "9a4153fc",
   "metadata": {},
   "outputs": [
    {
     "data": {
      "text/plain": [
       "['I have three visions for India.',\n",
       " 'In 3000 years of our history, people from all over \\n               the world have come and invaded us, captured our lands, conquered our minds.']"
      ]
     },
     "execution_count": 14,
     "metadata": {},
     "output_type": "execute_result"
    }
   ],
   "source": [
    "sentences[:2]"
   ]
  },
  {
   "cell_type": "code",
   "execution_count": 24,
   "id": "a10c754f",
   "metadata": {},
   "outputs": [
    {
     "name": "stdout",
     "output_type": "stream",
     "text": [
      "three vision india\n",
      "year history people world come invaded u captured land conquered mind\n",
      "alexander onwards greek turk mogul portuguese british french dutch came looted u took\n",
      "yet done nation\n",
      "conquered anyone\n",
      "grabbed land culture history tried enforce way life\n",
      "\n",
      "respect freedom others first vision freedom\n",
      "believe india got first vision started war independence\n",
      "freedom must protect nurture build\n",
      "free one respect u\n",
      "second vision india development\n",
      "fifty year developing nation\n",
      "time see developed nation\n",
      "among top nation world term gdp\n",
      "percent growth rate area\n",
      "poverty level falling\n",
      "achievement globally recognised today\n",
      "yet lack self confidence see developed nation self reliant self assured\n",
      "incorrect\n",
      "third vision\n",
      "india must stand world\n",
      "believe unless india stand world one respect u\n",
      "strength respect strength\n",
      "must strong military power also economic power\n",
      "must go hand hand\n",
      "good fortune worked three great mind\n",
      "dr vikram sarabhai dept\n",
      "space professor satish dhawan succeeded dr brahm prakash father nuclear material\n",
      "lucky worked three closely consider great opportunity life\n",
      "see four milestone career\n"
     ]
    }
   ],
   "source": [
    "for sentence in sentences: \n",
    "    review = re.sub('[^a-zA-Z]', ' ', sentence)\n",
    "    review = review.lower()\n",
    "    review = word_tokenize(review)\n",
    "    review = [lemmatizer.lemmatize(word) for word in review if word not in nltk.corpus.stopwords.words('english')]\n",
    "    print(' '.join(review))"
   ]
  },
  {
   "cell_type": "code",
   "execution_count": 25,
   "id": "80e730c6",
   "metadata": {},
   "outputs": [
    {
     "name": "stdout",
     "output_type": "stream",
     "text": [
      "three vision india\n",
      "year histori peopl world come invad us captur land conquer mind\n",
      "alexand onward greek turk mogul portugues british french dutch came loot us took\n",
      "yet done nation\n",
      "conquer anyon\n",
      "grab land cultur histori tri enforc way life\n",
      "\n",
      "respect freedom other first vision freedom\n",
      "believ india got first vision start war independ\n",
      "freedom must protect nurtur build\n",
      "free one respect us\n",
      "second vision india develop\n",
      "fifti year develop nation\n",
      "time see develop nation\n",
      "among top nation world term gdp\n",
      "percent growth rate area\n",
      "poverti level fall\n",
      "achiev global recognis today\n",
      "yet lack self confid see develop nation self reliant self assur\n",
      "incorrect\n",
      "third vision\n",
      "india must stand world\n",
      "believ unless india stand world one respect us\n",
      "strength respect strength\n",
      "must strong militari power also econom power\n",
      "must go hand hand\n",
      "good fortun work three great mind\n",
      "dr vikram sarabhai dept\n",
      "space professor satish dhawan succeed dr brahm prakash father nuclear materi\n",
      "lucki work three close consid great opportun life\n",
      "see four mileston career\n"
     ]
    }
   ],
   "source": [
    "for sentence in sentences: \n",
    "    review = re.sub('[^a-zA-Z]', ' ', sentence)\n",
    "    review = review.lower()\n",
    "    review = word_tokenize(review)\n",
    "    review = [PtS.stem(word) for word in review if word not in nltk.corpus.stopwords.words('english')]\n",
    "    print(' '.join(review))"
   ]
  },
  {
   "cell_type": "code",
   "execution_count": 26,
   "id": "f7d561f5",
   "metadata": {},
   "outputs": [
    {
     "name": "stdout",
     "output_type": "stream",
     "text": [
      "three vision india\n",
      "year histori peopl world come invad us captur land conquer mind\n",
      "alexand onward greek turk mogul portugues british french dutch came loot us took\n",
      "yet done nation\n",
      "conquer anyon\n",
      "grab land cultur histori tri enforc way life\n",
      "\n",
      "respect freedom other first vision freedom\n",
      "believ india got first vision start war independ\n",
      "freedom must protect nurtur build\n",
      "free one respect us\n",
      "second vision india develop\n",
      "fifti year develop nation\n",
      "time see develop nation\n",
      "among top nation world term gdp\n",
      "percent growth rate area\n",
      "poverti level fall\n",
      "achiev global recognis today\n",
      "yet lack self confid see develop nation self reliant self assur\n",
      "incorrect\n",
      "third vision\n",
      "india must stand world\n",
      "believ unless india stand world one respect us\n",
      "strength respect strength\n",
      "must strong militari power also econom power\n",
      "must go hand hand\n",
      "good fortun work three great mind\n",
      "dr vikram sarabhai dept\n",
      "space professor satish dhawan succeed dr brahm prakash father nuclear materi\n",
      "lucki work three close consid great opportun life\n",
      "see four mileston career\n"
     ]
    }
   ],
   "source": [
    "for sentence in sentences: \n",
    "    review = re.sub('[^a-zA-Z]', ' ', sentence)\n",
    "    review = review.lower()\n",
    "    review = word_tokenize(review)\n",
    "    review = [SnS.stem(word) for word in review if word not in nltk.corpus.stopwords.words('english')]\n",
    "    print(' '.join(review))"
   ]
  },
  {
   "cell_type": "code",
   "execution_count": null,
   "id": "fd213e41",
   "metadata": {},
   "outputs": [],
   "source": []
  }
 ],
 "metadata": {
  "kernelspec": {
   "display_name": "base",
   "language": "python",
   "name": "python3"
  },
  "language_info": {
   "codemirror_mode": {
    "name": "ipython",
    "version": 3
   },
   "file_extension": ".py",
   "mimetype": "text/x-python",
   "name": "python",
   "nbconvert_exporter": "python",
   "pygments_lexer": "ipython3",
   "version": "3.11.5"
  }
 },
 "nbformat": 4,
 "nbformat_minor": 5
}
